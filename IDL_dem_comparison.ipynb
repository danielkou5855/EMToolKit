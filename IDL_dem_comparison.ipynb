{
 "cells": [
  {
   "cell_type": "markdown",
   "id": "432db0ed",
   "metadata": {},
   "source": [
    "# EMToolKit Dashboard Example\n",
    "\n",
    "## This software shows the user how to use the dashboard"
   ]
  },
  {
   "cell_type": "markdown",
   "id": "783cd7a0",
   "metadata": {},
   "source": [
    "### Import Statements"
   ]
  },
  {
   "cell_type": "code",
   "execution_count": 1,
   "id": "48cb178c",
   "metadata": {},
   "outputs": [
    {
     "data": {
      "text/html": [
       "<style>:root { --jp-notebook-max-width: 100% !important; }</style>"
      ],
      "text/plain": [
       "<IPython.core.display.HTML object>"
      ]
     },
     "metadata": {},
     "output_type": "display_data"
    }
   ],
   "source": [
    "# Standard library imports\n",
    "import importlib\n",
    "import os.path\n",
    "import pickle\n",
    "import time\n",
    "from sys import path\n",
    "\n",
    "# Third-party library imports\n",
    "import numpy as np\n",
    "import matplotlib.pyplot as plt\n",
    "import astropy.units as u\n",
    "import matplotlib\n",
    "from sunpy.map import Map\n",
    "from sunpy.net import Fido, attrs as a, vso\n",
    "from sunpy.time import TimeRange\n",
    "from ndcube import NDCube, NDCubeSequence, NDCollection\n",
    "from astropy import wcs\n",
    "\n",
    "# EMToolKit specific imports\n",
    "import EMToolKit\n",
    "import EMToolKit.visualization\n",
    "import EMToolKit.EMToolKit as emtk\n",
    "from EMToolKit.visualization.dashboard import dashboard_object\n",
    "from EMToolKit.instruments.aia import load_from_paths, aia_wrapper\n",
    "from EMToolKit.algorithms.sparse_em_wrapper import sparse_em_wrapper\n",
    "from EMToolKit.algorithms.simple_reg_dem_wrapper import simple_reg_dem_wrapper\n",
    "\n",
    "# Reloading modules (if necessary)\n",
    "importlib.reload(EMToolKit)\n",
    "importlib.reload(EMToolKit.visualization)\n",
    "\n",
    "# Jupyter/IPython specific commands\n",
    "%matplotlib widget\n",
    "# matplotlib.use(\"qt5Agg\")\n",
    "# jupyter nbextension enable --py widgetsnbextension\n",
    "\n",
    "# Configuration settings\n",
    "plt.rcParams.update({'font.size': 18, 'figure.figsize': [27, 15], 'image.origin': 'lower'})\n",
    "np.set_printoptions(linewidth=128)\n",
    "\n",
    "# Setting the base path\n",
    "base_path = \"\"\n",
    "emtk_path = base_path + 'code/'\n",
    "path.append(emtk_path)\n",
    "os.makedirs(emtk_path, exist_ok=True)\n",
    "\n",
    "# Display HTML for notebook width\n",
    "from IPython.display import display, HTML\n",
    "display(HTML(\"<style>:root { --jp-notebook-max-width: 100% !important; }</style>\"))\n",
    "\n",
    "# Initialization\n",
    "em_collection = 0"
   ]
  },
  {
   "cell_type": "markdown",
   "id": "2d45451b",
   "metadata": {},
   "source": [
    "### Download the Imagery"
   ]
  },
  {
   "cell_type": "code",
   "execution_count": 2,
   "id": "5783f36b",
   "metadata": {},
   "outputs": [
    {
     "name": "stdout",
     "output_type": "stream",
     "text": [
      "['data/20220330/aia_lev1_94a_2022_03_30t12_04_11_12z_image_lev1.fits', 'data/20220330/aia_lev1_131a_2022_03_30t12_04_06_62z_image_lev1.fits', 'data/20220330/aia_lev1_171a_2022_03_30t12_04_09_35z_image_lev1.fits', 'data/20220330/aia_lev1_193a_2022_03_30t12_04_04_84z_image_lev1.fits', 'data/20220330/aia_lev1_211a_2022_03_30t12_04_09_63z_image_lev1.fits', 'data/20220330/aia_lev1_335a_2022_03_30t12_04_00_62z_image_lev1.fits']\n"
     ]
    }
   ],
   "source": [
    "xlen = None\n",
    "ylen = None\n",
    "xl = None\n",
    "yl = None\n",
    "\n",
    "sdo_data_dir = base_path+\"data/20220330/\" # Place to put data files. You'll need to change it or create these subdirectories\n",
    "\n",
    "paths = [sdo_data_dir + path for path in os.listdir(sdo_data_dir)\n",
    "         if (os.path.isfile(os.path.join(sdo_data_dir, path)) and \".fits\" in path)]\n",
    "\n",
    "paths = sorted(paths)\n",
    "paths = [paths[5], paths[0], paths[1], paths[2], paths[3], paths[4]]\n",
    "\n",
    "print(paths)"
   ]
  },
  {
   "cell_type": "code",
   "execution_count": 3,
   "id": "3597b531",
   "metadata": {},
   "outputs": [
    {
     "name": "stdout",
     "output_type": "stream",
     "text": [
      "['data/20220330/aia_lev1_94a_2022_03_30t12_04_11_12z_image_lev1.fits', 'data/20220330/aia_lev1_131a_2022_03_30t12_04_06_62z_image_lev1.fits', 'data/20220330/aia_lev1_171a_2022_03_30t12_04_09_35z_image_lev1.fits', 'data/20220330/aia_lev1_193a_2022_03_30t12_04_04_84z_image_lev1.fits', 'data/20220330/aia_lev1_211a_2022_03_30t12_04_09_63z_image_lev1.fits', 'data/20220330/aia_lev1_335a_2022_03_30t12_04_00_62z_image_lev1.fits']\n"
     ]
    }
   ],
   "source": [
    "# Load the AIA data:\n",
    "print(paths)\n",
    "maps = load_from_paths(paths,xl=xl,yl=yl,dx=xlen,dy=ylen)\n",
    "\n",
    "temperatures = np.arange(5.5, 7.5, 0.1)\n",
    "\n",
    "[maps,errs,trlogts,tresps] = aia_wrapper(maps, temperature_array=np.array(temperatures))\n",
    "\n",
    "# Make data sequence from AIA data:\n",
    "datasequence = emtk.em_data(maps,errs,trlogts,tresps)\n",
    "\n",
    "# Create em_collection with AIA data:\n",
    "em_collection = emtk.em_collection(datasequence)\n"
   ]
  },
  {
   "cell_type": "markdown",
   "id": "d9d9e99e",
   "metadata": {},
   "source": [
    "### Compute the Differential Emission Measures"
   ]
  },
  {
   "cell_type": "code",
   "execution_count": 4,
   "id": "9d966fbd",
   "metadata": {},
   "outputs": [
    {
     "ename": "IndexError",
     "evalue": "list index out of range",
     "output_type": "error",
     "traceback": [
      "\u001b[0;31m---------------------------------------------------------------------------\u001b[0m",
      "\u001b[0;31mIndexError\u001b[0m                                Traceback (most recent call last)",
      "Cell \u001b[0;32mIn[4], line 10\u001b[0m\n\u001b[1;32m      8\u001b[0m \u001b[38;5;28;01melse\u001b[39;00m:\n\u001b[1;32m      9\u001b[0m     tstart\u001b[38;5;241m=\u001b[39mtime\u001b[38;5;241m.\u001b[39mtime()\n\u001b[0;32m---> 10\u001b[0m     spars_out \u001b[38;5;241m=\u001b[39m \u001b[43msparse_em_wrapper\u001b[49m\u001b[43m(\u001b[49m\u001b[43mdatasequence\u001b[49m\u001b[43m)\u001b[49m\n\u001b[1;32m     11\u001b[0m     sparse_em_demsequence \u001b[38;5;241m=\u001b[39m emtk\u001b[38;5;241m.\u001b[39mdem_model(\u001b[38;5;241m*\u001b[39mspars_out, sparse_em_wrapper)\n\u001b[1;32m     12\u001b[0m     \u001b[38;5;28mprint\u001b[39m(\u001b[38;5;124m'\u001b[39m\u001b[38;5;124mSparse method took\u001b[39m\u001b[38;5;124m'\u001b[39m,time\u001b[38;5;241m.\u001b[39mtime()\u001b[38;5;241m-\u001b[39mtstart)\n",
      "File \u001b[0;32m~/Downloads/EMToolKit/EMToolKit/algorithms/sparse_em_wrapper.py:33\u001b[0m, in \u001b[0;36msparse_em_wrapper\u001b[0;34m(datasequence, wrapargs)\u001b[0m\n\u001b[1;32m     31\u001b[0m [Dict, lgtaxis, basis_funcs, bases_sigmas] \u001b[38;5;241m=\u001b[39m sparse_em_init(trlogts, tresps, differential\u001b[38;5;241m=\u001b[39m\u001b[38;5;28;01mTrue\u001b[39;00m)\n\u001b[1;32m     32\u001b[0m t1 \u001b[38;5;241m=\u001b[39m time\u001b[38;5;241m.\u001b[39mtime() \u001b[38;5;241m*\u001b[39m \u001b[38;5;241m1000\u001b[39m\n\u001b[0;32m---> 33\u001b[0m coeffs, zmax, status \u001b[38;5;241m=\u001b[39m \u001b[43msparse_em_solve\u001b[49m\u001b[43m(\u001b[49m\u001b[43mdatacube\u001b[49m\u001b[43m,\u001b[49m\u001b[43m \u001b[49m\u001b[43merrscube\u001b[49m\u001b[43m,\u001b[49m\u001b[43m \u001b[49m\u001b[43mexptimes\u001b[49m\u001b[43m,\u001b[49m\u001b[43m \u001b[49m\u001b[43mDict\u001b[49m\u001b[43m)\u001b[49m\n\u001b[1;32m     34\u001b[0m \u001b[38;5;28mprint\u001b[39m(time\u001b[38;5;241m.\u001b[39mtime() \u001b[38;5;241m*\u001b[39m \u001b[38;5;241m1000\u001b[39m \u001b[38;5;241m-\u001b[39m t1)\n\u001b[1;32m     35\u001b[0m coeffs \u001b[38;5;241m=\u001b[39m coeffs\u001b[38;5;241m.\u001b[39mtranspose(np\u001b[38;5;241m.\u001b[39mroll(np\u001b[38;5;241m.\u001b[39marange(coeffs\u001b[38;5;241m.\u001b[39mndim),\u001b[38;5;241m1\u001b[39m))\n",
      "File \u001b[0;32m~/Downloads/EMToolKit/EMToolKit/algorithms/sparse_em.py:127\u001b[0m, in \u001b[0;36msparse_em_solve\u001b[0;34m(image, errors, exptimes, Dict, zfac, eps, tolfac, relax, symmbuff, adaptive_tolfac, epsfac)\u001b[0m\n\u001b[1;32m    125\u001b[0m zequations_array[i][j][k] \u001b[38;5;241m=\u001b[39m zequation\n\u001b[1;32m    126\u001b[0m constraints_array[i][j][k] \u001b[38;5;241m=\u001b[39m constraint\u001b[38;5;241m.\u001b[39mT\n\u001b[0;32m--> 127\u001b[0m \u001b[43mm1_array\u001b[49m\u001b[43m[\u001b[49m\u001b[43mi\u001b[49m\u001b[43m]\u001b[49m[j][k] \u001b[38;5;241m=\u001b[39m m1\n\u001b[1;32m    128\u001b[0m m2_array[i][j][k] \u001b[38;5;241m=\u001b[39m m2\n\u001b[1;32m    129\u001b[0m m3_array[i][j][k] \u001b[38;5;241m=\u001b[39m m3\n",
      "\u001b[0;31mIndexError\u001b[0m: list index out of range"
     ]
    }
   ],
   "source": [
    "# Compute the DEM for Cheung et al. sparse EM method:\n",
    "# Make DEM sequence from the DEM and add it to the collection:\n",
    "pk_file = f'{sdo_data_dir}/sparse_em_demsequence.pkl'\n",
    "\n",
    "if os.path.exists(pk_file) and False:\n",
    "    with open(pk_file, 'rb') as file:\n",
    "       (sparse_em_demsequence, spars_out) = pickle.load(file)\n",
    "else:\n",
    "    tstart=time.time()\n",
    "    spars_out = sparse_em_wrapper(datasequence)\n",
    "    sparse_em_demsequence = emtk.dem_model(*spars_out, sparse_em_wrapper)\n",
    "    print('Sparse method took',time.time()-tstart)\n",
    "    with open(pk_file, 'wb') as file:\n",
    "        pickle.dump((sparse_em_demsequence, spars_out), file)\n",
    "\n",
    "spars_coeffs, spars_logts, spars_bases, spars_coords, spars_algorithm = spars_out\n",
    "em_collection.add_model(sparse_em_demsequence)"
   ]
  },
  {
   "cell_type": "code",
   "execution_count": 5,
   "id": "43773b46",
   "metadata": {},
   "outputs": [],
   "source": [
    "# Compute the DEM for Plowman & Caspi simple_reg_dem method:\n",
    "# Make DEM sequence from the DEM and add it to the collection:\n",
    "pk_file = f'{sdo_data_dir}/simple_reg_demsequence.pkl'\n",
    "# if(('simple_reg_demsequence' in locals()) == False):\n",
    "recalc = False\n",
    "if os.path.exists(pk_file):\n",
    "    with open(pk_file, 'rb') as file:\n",
    "        (simple_reg_demsequence, simpl_out) = pickle.load(file)\n",
    "else:\n",
    "    tstart=time.time()\n",
    "    simpl_out = simple_reg_dem_wrapper(datasequence)\n",
    "    print('Simple method took',time.time()-tstart)\n",
    "    simple_reg_demsequence = emtk.dem_model(*simpl_out, simple_reg_dem_wrapper)\n",
    "    with open(pk_file, 'wb') as file:\n",
    "        pickle.dump((simple_reg_demsequence, simpl_out), file)\n",
    "\n",
    "em_collection.add_model(simple_reg_demsequence)\n",
    "simpl_coeffs, simpl_logts, simpl_bases, simpl_coords, simpl_algorithm = simpl_out"
   ]
  },
  {
   "cell_type": "code",
   "execution_count": 6,
   "id": "6fae649f",
   "metadata": {},
   "outputs": [],
   "source": [
    "simpl_synthdata = em_collection.synthesize_data(trlogts,tresps,algorithm=simpl_algorithm)\n",
    "spars_synthdata = em_collection.synthesize_data(trlogts,tresps,algorithm=spars_algorithm)\n",
    "\n",
    "ptlogt,dem=em_collection.compute_dem_all(logt=np.arange(5.5,7.5,0.1),algorithm=simpl_algorithm)\n",
    "ptlogt2,dem2=em_collection.compute_dem_all(logt=np.arange(5.5,7.5,0.1),algorithm=spars_algorithm)\n",
    "\n",
    "# # save dem and dem2 to pkl files\n",
    "# with open(f'{sdo_data_dir}/simple_output.pkl', 'wb') as file:\n",
    "#     pickle.dump((ptlogt,dem), file)\n",
    "\n",
    "# with open(f'{sdo_data_dir}/sparse_output.pkl', 'wb') as file:\n",
    "#     pickle.dump((ptlogt2,dem2), file)"
   ]
  },
  {
   "cell_type": "code",
   "execution_count": null,
   "id": "e47fa1e1",
   "metadata": {},
   "outputs": [],
   "source": [
    "# compare dem outputs\n",
    "import pickle\n",
    "\n",
    "with open(\"idl_output.pkl\", \"rb\") as f:\n",
    "    idl = pickle.load(f)  # Load the single object\n",
    "\n",
    "idl_dem = idl['EMCUBE']\n",
    "\n",
    "cpy = np.copy(idl_dem)\n",
    "\n",
    "for i in range(20):\n",
    "    slice1 = np.log10(idl_dem[i, :, :])\n",
    "    slice2 = np.log10(dem[:, :, i])\n",
    "    slice3 = np.log10(dem2[:, :, i])\n",
    "\n",
    "    fig, axs = plt.subplots(1, 3)\n",
    "    im = axs[0].imshow(slice1, cmap='inferno', vmin=20, vmax=27)\n",
    "    axs[0].set(title='IDL')\n",
    "    plt.colorbar(im, ax=axs[0])\n",
    "\n",
    "    im = axs[1].imshow(slice2, cmap='inferno', vmin=20, vmax=27)\n",
    "    axs[1].set(title='Python (Simple)')\n",
    "    plt.colorbar(im, ax=axs[1])\n",
    "\n",
    "    im = axs[2].imshow(slice3, cmap='inferno', vmin=20, vmax=27)\n",
    "    axs[2].set(title='Python (Sparse)')\n",
    "    plt.colorbar(im, ax=axs[2])\n",
    "\n",
    "    os.makedirs('./dem_comparisons/', exist_ok=True)\n",
    "    plt.savefig(f'./dem_comparisons/dem_comparison_{i}.png')\n",
    "    plt.close()"
   ]
  }
 ],
 "metadata": {
  "kernelspec": {
   "display_name": ".env",
   "language": "python",
   "name": "python3"
  },
  "language_info": {
   "codemirror_mode": {
    "name": "ipython",
    "version": 3
   },
   "file_extension": ".py",
   "mimetype": "text/x-python",
   "name": "python",
   "nbconvert_exporter": "python",
   "pygments_lexer": "ipython3",
   "version": "3.9.19"
  }
 },
 "nbformat": 4,
 "nbformat_minor": 5
}
