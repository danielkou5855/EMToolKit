{
 "cells": [
  {
   "cell_type": "markdown",
   "id": "432db0ed",
   "metadata": {},
   "source": [
    "# EMToolKit Dashboard Example\n",
    "\n",
    "## This software shows the user how to use the dashboard"
   ]
  },
  {
   "cell_type": "markdown",
   "id": "783cd7a0",
   "metadata": {},
   "source": [
    "### Import Statements"
   ]
  },
  {
   "cell_type": "code",
   "execution_count": 1,
   "id": "48cb178c",
   "metadata": {},
   "outputs": [
    {
     "data": {
      "text/html": [
       "<style>:root { --jp-notebook-max-width: 100% !important; }</style>"
      ],
      "text/plain": [
       "<IPython.core.display.HTML object>"
      ]
     },
     "metadata": {},
     "output_type": "display_data"
    }
   ],
   "source": [
    "# Standard library imports\n",
    "import importlib\n",
    "import os.path\n",
    "import pickle\n",
    "import time\n",
    "from sys import path\n",
    "\n",
    "# Third-party library imports\n",
    "import numpy as np\n",
    "import matplotlib.pyplot as plt\n",
    "import astropy.units as u\n",
    "import matplotlib\n",
    "from sunpy.map import Map\n",
    "from sunpy.net import Fido, attrs as a, vso\n",
    "from sunpy.time import TimeRange\n",
    "from ndcube import NDCube, NDCubeSequence, NDCollection\n",
    "from astropy import wcs\n",
    "\n",
    "# EMToolKit specific imports\n",
    "import EMToolKit\n",
    "import EMToolKit.visualization\n",
    "import EMToolKit.EMToolKit as emtk\n",
    "from EMToolKit.visualization.dashboard import dashboard_object\n",
    "from EMToolKit.instruments.aia import load_from_paths, aia_wrapper\n",
    "from EMToolKit.algorithms.sparse_em_wrapper import sparse_em_wrapper\n",
    "from EMToolKit.algorithms.simple_reg_dem_wrapper import simple_reg_dem_wrapper\n",
    "\n",
    "# Reloading modules (if necessary)\n",
    "importlib.reload(EMToolKit)\n",
    "importlib.reload(EMToolKit.visualization)\n",
    "\n",
    "# Jupyter/IPython specific commands\n",
    "%matplotlib widget\n",
    "# matplotlib.use(\"qt5Agg\")\n",
    "# jupyter nbextension enable --py widgetsnbextension\n",
    "\n",
    "# Configuration settings\n",
    "plt.rcParams.update({'font.size': 18, 'figure.figsize': [27, 15], 'image.origin': 'lower'})\n",
    "np.set_printoptions(linewidth=128)\n",
    "\n",
    "# Setting the base path\n",
    "base_path = \"\"\n",
    "emtk_path = base_path + 'code/'\n",
    "path.append(emtk_path)\n",
    "os.makedirs(emtk_path, exist_ok=True)\n",
    "\n",
    "# Display HTML for notebook width\n",
    "from IPython.display import display, HTML\n",
    "display(HTML(\"<style>:root { --jp-notebook-max-width: 100% !important; }</style>\"))\n",
    "\n",
    "# Initialization\n",
    "em_collection = 0"
   ]
  },
  {
   "cell_type": "markdown",
   "id": "2d45451b",
   "metadata": {},
   "source": [
    "### Download the Imagery"
   ]
  },
  {
   "cell_type": "code",
   "execution_count": 2,
   "id": "5783f36b",
   "metadata": {},
   "outputs": [
    {
     "name": "stdout",
     "output_type": "stream",
     "text": [
      "['data/20220330/aia_lev1_94a_2022_03_30t12_04_11_12z_image_lev1.fits', 'data/20220330/aia_lev1_131a_2022_03_30t12_04_06_62z_image_lev1.fits', 'data/20220330/aia_lev1_171a_2022_03_30t12_04_09_35z_image_lev1.fits', 'data/20220330/aia_lev1_193a_2022_03_30t12_04_04_84z_image_lev1.fits', 'data/20220330/aia_lev1_211a_2022_03_30t12_04_09_63z_image_lev1.fits', 'data/20220330/aia_lev1_335a_2022_03_30t12_04_00_62z_image_lev1.fits']\n"
     ]
    }
   ],
   "source": [
    "xlen = None\n",
    "ylen = None\n",
    "xl = None\n",
    "yl = None\n",
    "\n",
    "sdo_data_dir = base_path+\"data/20220330/\" # Place to put data files. You'll need to change it or create these subdirectories\n",
    "\n",
    "paths = [sdo_data_dir + path for path in os.listdir(sdo_data_dir)\n",
    "         if (os.path.isfile(os.path.join(sdo_data_dir, path)) and \".fits\" in path)]\n",
    "\n",
    "paths = sorted(paths)\n",
    "paths = [paths[5], paths[0], paths[1], paths[2], paths[3], paths[4]]\n",
    "\n",
    "print(paths)"
   ]
  },
  {
   "cell_type": "code",
   "execution_count": 3,
   "id": "3597b531",
   "metadata": {},
   "outputs": [
    {
     "name": "stdout",
     "output_type": "stream",
     "text": [
      "['data/20220330/aia_lev1_94a_2022_03_30t12_04_11_12z_image_lev1.fits', 'data/20220330/aia_lev1_131a_2022_03_30t12_04_06_62z_image_lev1.fits', 'data/20220330/aia_lev1_171a_2022_03_30t12_04_09_35z_image_lev1.fits', 'data/20220330/aia_lev1_193a_2022_03_30t12_04_04_84z_image_lev1.fits', 'data/20220330/aia_lev1_211a_2022_03_30t12_04_09_63z_image_lev1.fits', 'data/20220330/aia_lev1_335a_2022_03_30t12_04_00_62z_image_lev1.fits']\n"
     ]
    }
   ],
   "source": [
    "# Load the AIA data:\n",
    "print(paths)\n",
    "maps = load_from_paths(paths,xl=xl,yl=yl,dx=xlen,dy=ylen)\n",
    "\n",
    "temperatures = np.arange(5.5, 7.5, 0.1)\n",
    "\n",
    "[maps,errs,trlogts,tresps] = aia_wrapper(maps, temperature_array=np.array(temperatures))\n",
    "\n",
    "# Make data sequence from AIA data:\n",
    "datasequence = emtk.em_data(maps,errs,trlogts,tresps)\n",
    "\n",
    "# Create em_collection with AIA data:\n",
    "em_collection = emtk.em_collection(datasequence)\n"
   ]
  },
  {
   "cell_type": "markdown",
   "id": "d9d9e99e",
   "metadata": {},
   "source": [
    "### Compute the Differential Emission Measures"
   ]
  },
  {
   "cell_type": "code",
   "execution_count": 4,
   "id": "9d966fbd",
   "metadata": {},
   "outputs": [
    {
     "name": "stdout",
     "output_type": "stream",
     "text": [
      "124407.00390625\n",
      "Sparse method took 124.45198106765747\n"
     ]
    }
   ],
   "source": [
    "# Compute the DEM for Cheung et al. sparse EM method:\n",
    "# Make DEM sequence from the DEM and add it to the collection:\n",
    "pk_file = f'{sdo_data_dir}/sparse_em_demsequence.pkl'\n",
    "\n",
    "if os.path.exists(pk_file) and False:\n",
    "    with open(pk_file, 'rb') as file:\n",
    "       (sparse_em_demsequence, spars_out) = pickle.load(file)\n",
    "else:\n",
    "    tstart=time.time()\n",
    "    spars_out = sparse_em_wrapper(datasequence)\n",
    "    sparse_em_demsequence = emtk.dem_model(*spars_out, sparse_em_wrapper)\n",
    "    print('Sparse method took',time.time()-tstart)\n",
    "    with open(pk_file, 'wb') as file:\n",
    "        pickle.dump((sparse_em_demsequence, spars_out), file)\n",
    "\n",
    "spars_coeffs, spars_logts, spars_bases, spars_coords, spars_algorithm = spars_out\n",
    "em_collection.add_model(sparse_em_demsequence)"
   ]
  },
  {
   "cell_type": "code",
   "execution_count": 5,
   "id": "43773b46",
   "metadata": {},
   "outputs": [],
   "source": [
    "# Compute the DEM for Plowman & Caspi simple_reg_dem method:\n",
    "# Make DEM sequence from the DEM and add it to the collection:\n",
    "pk_file = f'{sdo_data_dir}/simple_reg_demsequence.pkl'\n",
    "# if(('simple_reg_demsequence' in locals()) == False):\n",
    "recalc = False\n",
    "if os.path.exists(pk_file):\n",
    "    with open(pk_file, 'rb') as file:\n",
    "        (simple_reg_demsequence, simpl_out) = pickle.load(file)\n",
    "else:\n",
    "    tstart=time.time()\n",
    "    simpl_out = simple_reg_dem_wrapper(datasequence)\n",
    "    print('Simple method took',time.time()-tstart)\n",
    "    simple_reg_demsequence = emtk.dem_model(*simpl_out, simple_reg_dem_wrapper)\n",
    "    with open(pk_file, 'wb') as file:\n",
    "        pickle.dump((simple_reg_demsequence, simpl_out), file)\n",
    "\n",
    "em_collection.add_model(simple_reg_demsequence)\n",
    "simpl_coeffs, simpl_logts, simpl_bases, simpl_coords, simpl_algorithm = simpl_out"
   ]
  },
  {
   "cell_type": "code",
   "execution_count": 6,
   "id": "6fae649f",
   "metadata": {},
   "outputs": [],
   "source": [
    "simpl_synthdata = em_collection.synthesize_data(trlogts,tresps,algorithm=simpl_algorithm)\n",
    "spars_synthdata = em_collection.synthesize_data(trlogts,tresps,algorithm=spars_algorithm)\n",
    "\n",
    "ptlogt,dem=em_collection.compute_dem_all(logt=np.arange(5.5,7.5,0.1),algorithm=simpl_algorithm)\n",
    "ptlogt2,dem2=em_collection.compute_dem_all(logt=np.arange(5.5,7.5,0.1),algorithm=spars_algorithm)\n",
    "\n",
    "# # save dem and dem2 to pkl files\n",
    "# with open(f'{sdo_data_dir}/simple_output.pkl', 'wb') as file:\n",
    "#     pickle.dump((ptlogt,dem), file)\n",
    "\n",
    "# with open(f'{sdo_data_dir}/sparse_output.pkl', 'wb') as file:\n",
    "#     pickle.dump((ptlogt2,dem2), file)"
   ]
  },
  {
   "cell_type": "code",
   "execution_count": 7,
   "id": "e47fa1e1",
   "metadata": {},
   "outputs": [
    {
     "name": "stdout",
     "output_type": "stream",
     "text": [
      "1.2884975e+28 0.0 4.131663e+25\n",
      "0.0 0.0 0.0\n"
     ]
    },
    {
     "name": "stderr",
     "output_type": "stream",
     "text": [
      "/var/folders/97/pfz9k4ps6p9gck56_mk2l08h0000gt/T/ipykernel_8414/1812798724.py:23: RuntimeWarning: divide by zero encountered in log10\n",
      "  slice1 = np.log10(idl_dem[i, :, :])\n",
      "/var/folders/97/pfz9k4ps6p9gck56_mk2l08h0000gt/T/ipykernel_8414/1812798724.py:25: RuntimeWarning: divide by zero encountered in log10\n",
      "  slice3 = np.log10(dem2[:, :, i])\n"
     ]
    }
   ],
   "source": [
    "# compare dem outputs\n",
    "import pickle\n",
    "\n",
    "with open(\"idl_output.pkl\", \"rb\") as f:\n",
    "    idl = pickle.load(f)  # Load the single object\n",
    "\n",
    "idl_dem = idl['EMCUBE']\n",
    "\n",
    "cpy = np.copy(idl_dem)\n",
    "\n",
    "print(np.nanmax(idl_dem), np.nanmin(idl_dem), np.average(idl_dem))\n",
    "print(np.nanmax(dem2), np.nanmin(dem2), np.average(dem2))\n",
    "\n",
    "# differential = False\n",
    "# 1.2884975e+28 0.0 4.131663e+25\n",
    "# 1.1484993695617642e+28 0.0 8.812918183680094e+24\n",
    "\n",
    "# differential = True\n",
    "# 1.2884975e+28 0.0 4.131663e+25\n",
    "# 2.2969987391235544e+29 0.0 8.819119544891039e+25\n",
    "\n",
    "for i in range(20):\n",
    "    slice1 = np.log10(idl_dem[i, :, :])\n",
    "    slice2 = np.log10(dem[:, :, i])\n",
    "    slice3 = np.log10(dem2[:, :, i])\n",
    "\n",
    "    fig, axs = plt.subplots(1, 3)\n",
    "    im = axs[0].imshow(slice1, cmap='inferno', vmin=20, vmax=27)\n",
    "    axs[0].set(title='IDL')\n",
    "    plt.colorbar(im, ax=axs[0])\n",
    "\n",
    "    im = axs[1].imshow(slice2, cmap='inferno', vmin=20, vmax=27)\n",
    "    axs[1].set(title='Python (Simple)')\n",
    "    plt.colorbar(im, ax=axs[1])\n",
    "\n",
    "    im = axs[2].imshow(slice3, cmap='inferno', vmin=20, vmax=27)\n",
    "    axs[2].set(title='Python (Sparse)')\n",
    "    plt.colorbar(im, ax=axs[2])\n",
    "\n",
    "    os.makedirs('./dem_comparisons/', exist_ok=True)\n",
    "    plt.savefig(f'./dem_comparisons/dem_comparison_{i}.png')\n",
    "    plt.close()"
   ]
  }
 ],
 "metadata": {
  "kernelspec": {
   "display_name": ".env",
   "language": "python",
   "name": "python3"
  },
  "language_info": {
   "codemirror_mode": {
    "name": "ipython",
    "version": 3
   },
   "file_extension": ".py",
   "mimetype": "text/x-python",
   "name": "python",
   "nbconvert_exporter": "python",
   "pygments_lexer": "ipython3",
   "version": "3.10.14"
  }
 },
 "nbformat": 4,
 "nbformat_minor": 5
}
