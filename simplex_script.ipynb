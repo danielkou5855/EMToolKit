{
 "cells": [
  {
   "cell_type": "markdown",
   "id": "4985b542",
   "metadata": {},
   "source": [
    "Install relevant packages:\n",
    "- numpy (1.26.4)\n",
    "- scipy (1.13.1)"
   ]
  },
  {
   "cell_type": "code",
   "execution_count": 1,
   "id": "93179a5d",
   "metadata": {},
   "outputs": [],
   "source": [
    "import numpy as np\n",
    "from scipy.optimize import linprog\n",
    "\n",
    "import pickle"
   ]
  },
  {
   "cell_type": "code",
   "execution_count": null,
   "id": "a1fe06f9",
   "metadata": {},
   "outputs": [
    {
     "name": "stdout",
     "output_type": "stream",
     "text": [
      "25.227028 -35.719913\n",
      "5.1596713 -6.791293\n"
     ]
    }
   ],
   "source": [
    "files = ['/sanhome/danielkou/public_html/output/simplex_1.4tolfac_8e-4eps_better.pkl',\n",
    "         '/sanhome/danielkou/public_html/output/simplex_2.5tolfac_8e-4eps_better.pkl']\n",
    "\n",
    "for file in files:\n",
    "    with open(file, 'rb') as f:\n",
    "        d = pickle.load(f)\n",
    "\n",
    "        print(d['rs_array'].shape)\n",
    "\n",
    "        print(np.max(d['rs_array']), np.min(d['rs_array']))"
   ]
  },
  {
   "cell_type": "code",
   "execution_count": null,
   "id": "54c4c3df",
   "metadata": {},
   "outputs": [],
   "source": [
    "with open('simplex_inputs_and_outputs.pkl', 'rb') as f:\n",
    "    called = pickle.load(f)\n",
    "\n",
    "print(called.keys())\n",
    "\n",
    "zequations = called['zequations_array']\n",
    "constraints = called['constraints_array']\n",
    "m1s = called['m1_array']\n",
    "m2s = called['m2_array']\n",
    "m3s = called['m3_array']\n",
    "epss = called['eps_array']\n",
    "results = called['r_array']\n",
    "statuses = called['s_array']\n",
    "\n",
    "epsfac = 8e-4 # another alternative is to use epsfac = 8e-4 (IDL version, which is different from python)\n",
    "\n",
    "for i in range(len(zequations)):\n",
    "    for j in range(len(zequations[0])):\n",
    "        for k in range(len(zequations[0][0])):\n",
    "            # read in inputs\n",
    "            zequation = zequations[i][j][k]\n",
    "            constraint = constraints[i][j][k]\n",
    "            m1 = m1s[i][j][k]\n",
    "            m2 = m2s[i][j][k]\n",
    "            m3 = m3s[i][j][k]\n",
    "            eps = epss[i][j][k] * epsfac\n",
    "\n",
    "            # process inputs\n",
    "            b_ub = np.hstack([constraint[0,0:m1],-constraint[0,m1:m1+m2]])\n",
    "            A_ub = np.hstack([-constraint[1:,0:m1],constraint[1:,m1:m1+m2]]).T\n",
    "            b_eq = constraint[0,m1+m2:m1+m2+m3]\n",
    "            A_eq = constraint[1:,m1+m2:m1+m2+m3].T\n",
    "\n",
    "            # scipy output using linprog (can be substituted)\n",
    "            res = linprog(-zequation, A_ub=A_ub, b_ub=b_ub, A_eq=A_eq, b_eq=b_eq, options={'tol':eps,'autoscale':True}, method='simplex')\n",
    "            result2 = np.hstack([res['fun'],res['x']])\n",
    "            status2 = res['status']\n",
    "\n",
    "            # read out outputs\n",
    "            result = results[i][j][k]\n",
    "            status = statuses[i][j][k]\n",
    "\n",
    "            # print(status, status2)"
   ]
  }
 ],
 "metadata": {
  "kernelspec": {
   "display_name": ".env",
   "language": "python",
   "name": "python3"
  },
  "language_info": {
   "codemirror_mode": {
    "name": "ipython",
    "version": 3
   },
   "file_extension": ".py",
   "mimetype": "text/x-python",
   "name": "python",
   "nbconvert_exporter": "python",
   "pygments_lexer": "ipython3",
   "version": "3.10.14"
  }
 },
 "nbformat": 4,
 "nbformat_minor": 5
}
