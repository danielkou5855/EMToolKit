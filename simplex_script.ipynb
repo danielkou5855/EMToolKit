{
 "cells": [
  {
   "cell_type": "markdown",
   "id": "4985b542",
   "metadata": {},
   "source": [
    "Install relevant packages:\n",
    "- numpy (1.26.4)\n",
    "- scipy (1.13.1)"
   ]
  },
  {
   "cell_type": "code",
   "execution_count": null,
   "id": "54c4c3df",
   "metadata": {},
   "outputs": [],
   "source": [
    "import numpy as np\n",
    "from scipy.optimize import linprog\n",
    "\n",
    "called = np.load('sparse_em_solve_called.npz')\n",
    "\n",
    "zequations = called['zequations']\n",
    "constraints = called['constraints']\n",
    "m1s = called['m1s']\n",
    "m2s = called['m2s']\n",
    "m3s = called['m3s']\n",
    "epss = called['epss']\n",
    "results = called['results']\n",
    "statuses = called['statuses']\n",
    "\n",
    "for i in range(len(zequations)):\n",
    "    # read in inputs\n",
    "    zequation = zequations[i]\n",
    "    constraint = constraints[i]\n",
    "    m1 = m1s[i]\n",
    "    m2 = m2s[i]\n",
    "    m3 = m3s[i]\n",
    "    eps = epss[i]\n",
    "\n",
    "    # process inputs for scipy linprog (can be substituted)\n",
    "    b_ub = np.hstack([constraint[0,0:m1],-constraint[0,m1:m1+m2]])\n",
    "    A_ub = np.hstack([-constraint[1:,0:m1],constraint[1:,m1:m1+m2]]).T\n",
    "    b_eq = constraint[0,m1+m2:m1+m2+m3]\n",
    "    A_eq = constraint[1:,m1+m2:m1+m2+m3].T\n",
    "\n",
    "    # scipy output using linprog (can be substituted)\n",
    "    res = linprog(-zequation, A_ub=A_ub, b_ub=b_ub, A_eq=A_eq, b_eq=b_eq, options={'tol':eps,'autoscale':True}, method='simplex')\n",
    "    result2 = np.hstack([res['fun'],res['x']])\n",
    "    status2 = res['status']\n",
    "\n",
    "    # read out outputs\n",
    "    result = results[i]\n",
    "    status = statuses[i]"
   ]
  }
 ],
 "metadata": {
  "kernelspec": {
   "display_name": ".env",
   "language": "python",
   "name": "python3"
  },
  "language_info": {
   "codemirror_mode": {
    "name": "ipython",
    "version": 3
   },
   "file_extension": ".py",
   "mimetype": "text/x-python",
   "name": "python",
   "nbconvert_exporter": "python",
   "pygments_lexer": "ipython3",
   "version": "3.9.19"
  }
 },
 "nbformat": 4,
 "nbformat_minor": 5
}
