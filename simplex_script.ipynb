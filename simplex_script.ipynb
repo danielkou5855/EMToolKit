{
 "cells": [
  {
   "cell_type": "markdown",
   "id": "4985b542",
   "metadata": {},
   "source": [
    "Install relevant packages:\n",
    "- numpy (1.26.4)\n",
    "- scipy (1.13.1)"
   ]
  },
  {
   "cell_type": "code",
   "execution_count": 1,
   "id": "93179a5d",
   "metadata": {},
   "outputs": [],
   "source": [
    "import numpy as np\n",
    "from scipy.optimize import linprog\n",
    "\n",
    "import pickle"
   ]
  },
  {
   "cell_type": "code",
   "execution_count": null,
   "id": "803fd6ed",
   "metadata": {},
   "outputs": [],
   "source": [
    "files = ['python_1.4tolfac_1e-10eps.pkl',\n",
    "         'python_2.5tolfac_8e-4eps.pkl',\n",
    "         'python_1.4tolfac_1e-10eps.pkl',\n",
    "         'python_2.5tolfac_8e-4eps.pkl']\n",
    "\n",
    "for file in files:\n",
    "    with open(file, 'rb') as f:\n",
    "        data = pickle.load(f)\n",
    "        results = data['r_array']\n",
    "\n",
    "        diffs = [np.sum(np.abs(results[0][0][0] - results[i][j][0])) for i in range(256) for j in range(256)]\n",
    "        print(max(diffs), min(diffs), sum(diffs))\n",
    "\n",
    "        diffs = [np.sum(np.abs(results[0][0][1] - results[i][j][1])) for i in range(256) for j in range(256)]\n",
    "        print(max(diffs), min(diffs), sum(diffs))\n",
    "\n",
    "        diffs = [np.sum(np.abs(results[0][0][2] - results[i][j][2])) for i in range(256) for j in range(256)]\n",
    "        print(max(diffs), min(diffs), sum(diffs))"
   ]
  }
 ],
 "metadata": {
  "kernelspec": {
   "display_name": ".env",
   "language": "python",
   "name": "python3"
  },
  "language_info": {
   "codemirror_mode": {
    "name": "ipython",
    "version": 3
   },
   "file_extension": ".py",
   "mimetype": "text/x-python",
   "name": "python",
   "nbconvert_exporter": "python",
   "pygments_lexer": "ipython3",
   "version": "3.9.19"
  }
 },
 "nbformat": 4,
 "nbformat_minor": 5
}
